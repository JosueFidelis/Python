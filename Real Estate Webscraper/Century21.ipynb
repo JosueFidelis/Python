{
 "cells": [
  {
   "cell_type": "code",
   "execution_count": 62,
   "metadata": {},
   "outputs": [],
   "source": [
    "import requests\n",
    "from bs4 import BeautifulSoup\n",
    "\n",
    "base_url=\"http://pyclass.com/real-estate/rock-springs-wy/LCWYROCKSPRINGS/t=0&s=\"\n",
    "\n",
    "properties_details= None\n",
    "\n",
    "for page in range(0,30,10):\n",
    "    req=requests.get(base_url + str(page) + \".html\", headers={'User-agent': 'Mozilla/5.0 (X11; Ubuntu; Linux x86_64; rv:61.0) Gecko/20100101 Firefox/61.0'})\n",
    "    content=req.content\n",
    "\n",
    "    soup=BeautifulSoup(content,\"html.parser\")\n",
    "    \n",
    "    if (properties_details is None):\n",
    "        properties_details=soup.find_all(\"div\",{\"class\":\"propertyRow\"})\n",
    "    else:\n",
    "        properties_details.extend(soup.find_all(\"div\",{\"class\":\"propertyRow\"}))"
   ]
  },
  {
   "cell_type": "code",
   "execution_count": 65,
   "metadata": {},
   "outputs": [],
   "source": [
    "houses=[]\n",
    "for house in properties_details:\n",
    "    house_details={}\n",
    "    house_details[\"Address\"]=house.find_all(\"span\", {\"class\":\"propAddressCollapse\"})[0].text\n",
    "    house_details[\"locality\"]=house.find_all(\"span\", {\"class\":\"propAddressCollapse\"})[1].text\n",
    "    house_details[\"Price\"]=house.find(\"h4\", {\"class\":\"propPrice\"}).text.replace(\"\\n\",\"\").replace(\" \",\"\")\n",
    "    try:\n",
    "        house_details[\"Beds\"]=house.find(\"span\",{\"class\":\"infoBed\"}).find(\"b\").text\n",
    "    except:\n",
    "        house_details[\"Beds\"]=None\n",
    "    \n",
    "    try:\n",
    "        house_details[\"Area\"]=house.find(\"s pan\",{\"class\":\"infoSqFt\"}).find(\"b\").text\n",
    "    except:\n",
    "        house_details[\"Area\"]=None\n",
    "    \n",
    "    try:\n",
    "        house_details[\"Full Baths\"]=house.find(\"span\",{\"class\":\"infoValueFullBath\"}).find(\"b\").text\n",
    "    except:\n",
    "        house_details[\"Full Baths\"]=None\n",
    "    \n",
    "    try:\n",
    "        house_details[\"Half Baths\"]=house.find(\"span\",{\"class\":\"infoValueHalfBath\"}).find(\"b\").text\n",
    "    except:\n",
    "        house_details[\"Half Baths\"]=None\n",
    "        \n",
    "    for colum_group in house.find_all(\"div\", {\"class\":\"columnGroup\"}):\n",
    "        \n",
    "        for feature_group, feature_name in \\\n",
    "        zip(colum_group.find_all(\"span\",{\"class\":\"featureGroup\"}),\\\n",
    "            colum_group.find_all(\"span\",{\"class\":\"featureName\"})):\n",
    "            \n",
    "            if \"Lot Size\" in feature_group.text:\n",
    "                house_details[\"Lot Size\"]=feature_name.text\n",
    "    \n",
    "    houses.append(house_details)"
   ]
  },
  {
   "cell_type": "code",
   "execution_count": 68,
   "metadata": {},
   "outputs": [],
   "source": [
    "import pandas\n",
    "df=pandas.DataFrame(houses)\n",
    "\n",
    "df.to_csv(\"Output.csv\")"
   ]
  }
 ],
 "metadata": {
  "kernelspec": {
   "display_name": "Python 3",
   "language": "python",
   "name": "python3"
  },
  "language_info": {
   "codemirror_mode": {
    "name": "ipython",
    "version": 3
   },
   "file_extension": ".py",
   "mimetype": "text/x-python",
   "name": "python",
   "nbconvert_exporter": "python",
   "pygments_lexer": "ipython3",
   "version": "3.6.9"
  }
 },
 "nbformat": 4,
 "nbformat_minor": 2
}
